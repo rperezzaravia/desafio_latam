{
 "cells": [
  {
   "cell_type": "markdown",
   "id": "2f18774f",
   "metadata": {},
   "source": [
    "# Desafio LATAM - Ricardo Javier Pérez Zaravia"
   ]
  },
  {
   "cell_type": "markdown",
   "id": "74ee070e",
   "metadata": {},
   "source": [
    "# 1. ¿Cómo se distribuyen los datos? ¿Encontró algún insight notable para compartir? ¿Qué puede concluir al respecto?"
   ]
  },
  {
   "cell_type": "markdown",
   "id": "f3fbabf2",
   "metadata": {},
   "source": [
    "Para comenzar, debemos cargar los datos del archivo CSV \"dataset_SCL.csv\" en un DataFrame de Pandas. Podemos hacer esto con el siguiente código:"
   ]
  },
  {
   "cell_type": "code",
   "execution_count": null,
   "id": "43df6871",
   "metadata": {},
   "outputs": [],
   "source": [
    "# Paso 1: Importar bibliotecas\n",
    "import pandas as pd\n",
    "import numpy as np\n",
    "import seaborn as sns\n",
    "import matplotlib.pyplot as plt"
   ]
  },
  {
   "cell_type": "code",
   "execution_count": null,
   "id": "8463a4e6",
   "metadata": {},
   "outputs": [],
   "source": [
    "# Paso 2: Cargar datos\n",
    "df = pd.read_csv(r'datasets/Data_SCL/dataset_SCL.csv', parse_dates=['Fecha-I', 'Fecha-O'], dtype={'Vlo-I': str, 'Vlo-O': str})\n",
    "df"
   ]
  },
  {
   "cell_type": "code",
   "execution_count": null,
   "id": "de27a72b",
   "metadata": {},
   "outputs": [],
   "source": [
    "# Paso 3: Explorar estructura de datos\n",
    "# imprimir la información de resumen del DataFrame\n",
    "print(df.info())\n",
    "\n",
    "# imprimir las primeras filas del DataFrame\n",
    "print(df.head())"
   ]
  },
  {
   "cell_type": "markdown",
   "id": "73795962",
   "metadata": {},
   "source": [
    "Analisis del DataFrame:\n",
    "\n",
    "Basándonos en la información proporcionada sobre el DataFrame, se pueden hacer las siguientes observaciones:\n",
    "\n",
    "1.- El DataFrame tiene 68,206 filas y 18 columnas, lo que indica que hay una cantidad significativa de datos para realizar un análisis.\n",
    "\n",
    "2.- La mayoría de las columnas son de tipo 'object', lo que indica que son variables categóricas o de texto. Algunas de estas columnas ya hemos discutido cómo convertirlas a numéricas (DIANOM, TIPOVUELO, OPERA, SIGLAORI, SIGLADES).\n",
    "\n",
    "3.- Las columnas 'Fecha-I' y 'Fecha-O' son de tipo 'datetime64[ns]', lo que indica que son fechas y horas. Estas columnas pueden ser útiles para calcular la duración del vuelo o encontrar patrones estacionales en los retrasos de vuelos.\n",
    "\n",
    "4.-Las columnas 'DIA', 'MES' y 'AÑO' son de tipo 'int64' y ya están en un formato numérico. Estas columnas pueden ser utilizadas directamente en el análisis.\n",
    "\n",
    "5.-El DataFrame proporciona información detallada sobre vuelos individuales, incluyendo la hora de salida programada (Fecha-I) y la hora de salida real (Fecha-O), el número de vuelo (Vlo-I, Vlo-O), el origen y destino (Ori-I, Des-I, Ori-O, Des-O), la aerolínea (Emp-I, Emp-O), el día de la semana (DIANOM) y el tipo de vuelo (TIPOVUELO).\n",
    "\n",
    "A partir de esta información, se pueden realizar análisis adicionales para explorar la relación entre las variables y su impacto en los retrasos de vuelos. Por ejemplo, se podría investigar cómo los retrasos varían según el día de la semana, el tipo de vuelo, la aerolínea o la ruta. Además, se pueden calcular nuevas variables.\n"
   ]
  },
  {
   "cell_type": "code",
   "execution_count": null,
   "id": "50e112cd",
   "metadata": {},
   "outputs": [],
   "source": [
    "#Analisis del Volumen de Trafico de vuelos por MES\n",
    "\n",
    "# Agrupar por mes y contar la cantidad de vuelos\n",
    "flights_by_month = df.groupby(df['Fecha-I'].dt.month).size()\n",
    "\n",
    "# Graficar la cantidad de vuelos por mes en un gráfico de barras\n",
    "flights_by_month.plot(kind='bar', figsize=(10, 5))\n",
    "plt.xlabel('Mes')\n",
    "plt.ylabel('Cantidad de vuelos')\n",
    "plt.title('Cantidad de vuelos por mes')\n",
    "plt.xticks(range(len(flights_by_month.index)), ['Ene', 'Feb', 'Mar', 'Abr', 'May', 'Jun', 'Jul', 'Ago', 'Sep', 'Oct', 'Nov', 'Dic'], rotation='horizontal')\n",
    "plt.show()\n",
    "\n",
    "#1.- Observando la grafica podemos inferir que en los periodos considerados 'high_season' el volumen de trafico es mayor,\n",
    "#2.- un aumento de trafico puede influir en la tasa de retrasos de los vuelos por motivos de la eficiencia de las operaciones.\n",
    "#3.- En los meses de mejor clima (Calido) en el Pais, tambien se observa un flujo mayor de trafico en relaciones a los meses Frios.\n",
    "#4.- otro supuesto a considerar es que en los periodos'high_season' se estima el arrivo de vuelos Internacionales, los cuales,\n",
    "#    tienen un tiempo de viaje mayor y al ser viajes extensos y que pasan a traves de distintas zonas climatica, se pueden ver\n",
    "#    afectados en sus itinerarios de viaje (Este ultimo supuesto quizas no debe ser considerado, debido a que en el origen de datos\n",
    "#    disponibles solo se observan vuelos que salientes desde el Aeropuerto de Santiago de Chile (SCL))"
   ]
  },
  {
   "cell_type": "code",
   "execution_count": null,
   "id": "cc06ae34",
   "metadata": {
    "scrolled": true
   },
   "outputs": [],
   "source": [
    "#Funcion para graficar la relacion entre el total de vuelos / total de Retrasos / % de retrasos.\n",
    "#Se tomara como base el archivo de datos generado con las columnas adicionales del Punto 2\n",
    "\n",
    "def plot_vuelos_retrasos_por_mes():\n",
    "    # Leer los datos del archivo CSV\n",
    "    df = pd.read_csv(r'datasets/Data_SCL/synthetic_features.csv', parse_dates=['Fecha-I', 'Fecha-O'], dtype={'Vlo-I': str, 'Vlo-O': str})\n",
    "\n",
    "    # Agrupar los datos por MES y contar los vuelos y retrasos\n",
    "    grouped = df.groupby('MES').agg({'Vlo-I': 'count', 'Retrasado': 'sum'}).reset_index()\n",
    "    grouped['Porcentaje_retrasos'] = (grouped['Retrasado'] / grouped['Vlo-I']) * 100\n",
    "\n",
    "    # Crear el gráfico de barras\n",
    "    fig, ax = plt.subplots(figsize=(12, 6))\n",
    "    ax.bar(grouped['MES'], grouped['Vlo-I'], label='Total de vuelos')\n",
    "    ax.bar(grouped['MES'], grouped['Retrasado'], label='Vuelos retrasados')\n",
    "\n",
    "    # Añadir etiquetas de porcentaje de retrasos en la parte superior de las barras\n",
    "    for i, row in grouped.iterrows():\n",
    "        ax.text(row['MES'], row['Vlo-I'], f\"{row['Porcentaje_retrasos']:.2f}%\", ha='center', va='bottom')\n",
    "\n",
    "    # Ajustar etiquetas y leyendas\n",
    "    ax.set_xlabel('Mes')\n",
    "    ax.set_ylabel('Cantidad de vuelos')\n",
    "    ax.set_title('Vuelos y retrasos agrupados por mes')\n",
    "    ax.legend(loc=\"lower center\", bbox_to_anchor=(0.0, 1.00))\n",
    "\n",
    "    # Mostrar el gráfico\n",
    "    plt.show()\n"
   ]
  },
  {
   "cell_type": "code",
   "execution_count": null,
   "id": "d444c0ff",
   "metadata": {},
   "outputs": [],
   "source": [
    "plot_vuelos_retrasos_por_mes()\n",
    "\n",
    "##Analizando la distrubucion de los vuelos y el % de Retrasos para el año, se puede observar que:\n",
    "#   - En los periodos considerados de temporada alta se observa un aumento de trafico en relacion a los peridos de temporaba baja.\n",
    "#   - Bajo esta grafica se podria previamente concluir que los retrasos de los vuelos tiene una relacion directa con la temporadas y clima.\n",
    "#   - Se observa ademas que a mayor trafico, mayor es el % de Retrasos, tienen una relacion directa.\n",
    "#   - Se debe realizar un analisis mas en detalle aperturando por Mes, para confirmar lo anteriormente mencionado."
   ]
  },
  {
   "cell_type": "code",
   "execution_count": null,
   "id": "4e0e7822",
   "metadata": {},
   "outputs": [],
   "source": [
    "# Analisis de Trafico por Mes\n",
    "#La siguiente funcion tiene por objetivo poder analizar la distribucion de trafico y Retrasos en un Mes\n",
    "#La funcion recibe como entrada el Mes y grafica la distribucion total de vuelos y el % de retraasos.\n",
    "\n",
    "\n",
    "def graficar_distribucion_vuelos_retrasos(mes: int):\n",
    "    # Filtrar los datos para el mes dado\n",
    "    df_mes = df[df['MES'] == mes]\n",
    "\n",
    "    # Calcular la cantidad total de vuelos por día en el mes\n",
    "    vuelos_por_dia = df_mes.groupby(df_mes['Fecha-I'].dt.day).size()\n",
    "\n",
    "    # Calcular la cantidad de vuelos retrasados por día en el mes\n",
    "    vuelos_retrasados_por_dia = df_mes[df_mes['Retrasado'] == 1].groupby(df_mes['Fecha-I'].dt.day).size()\n",
    "\n",
    "    # Calcular el porcentaje de vuelos retrasados por día en el mes\n",
    "    porcentaje_retrasos = (vuelos_retrasados_por_dia / vuelos_por_dia) * 100\n",
    "\n",
    "\n",
    "     # Crear un gráfico de barras para la cantidad total de vuelos y vuelos retrasados por día de la semana\n",
    "    fig, ax1 = plt.subplots(figsize=(12, 6))\n",
    "    ax1.bar(vuelos_por_dia.index, vuelos_por_dia, color='b', alpha=0.5, label='Cantidad de vuelos')\n",
    "    ax1.bar(vuelos_retrasados_por_dia.index, vuelos_retrasados_por_dia, color='r', alpha=0.5, label='Vuelos retrasados')\n",
    "    ax1.set_xlabel('Día del mes')\n",
    "    ax1.set_ylabel('Cantidad de vuelos')\n",
    "    ax1.set_title(f'Total de vuelos y vuelos retrasados en el mes {mes}')\n",
    "\n",
    "    # Añadir leyendas\n",
    "    fig.legend(loc=\"upper left\", bbox_to_anchor=(0.1, 0.85))\n",
    "\n",
    "    # Agregar el porcentaje de retrasos en el punto de cruce entre el total de vuelos y el total de retrasos por día del mes\n",
    "    for i, (dia, porcentaje) in enumerate(porcentaje_retrasos.items()):\n",
    "        ax1.text(i, vuelos_retrasados_por_dia[dia], f'{porcentaje:.1f}%', ha='center', va='bottom', rotation=90)\n",
    "   \n",
    "        \n",
    "    plt.show()"
   ]
  },
  {
   "cell_type": "code",
   "execution_count": null,
   "id": "c5411970",
   "metadata": {},
   "outputs": [],
   "source": [
    "#Analisis para Mes 'high_season' (Enero)\n",
    "graficar_distribucion_vuelos_retrasos(1)\n",
    "\n",
    "#Analizando la distrubucion de los vuelos y el % de Retrasos para Enero, se puede observar que:\n",
    "#  - Los días Sabados tienen menor trafico.\n",
    "#  - Los días Viernes tienen Mayor Trafico\n",
    "#  - Independiente del trafico la tasa de retrasos es sobre el 60% en promedio por cada dia del mes."
   ]
  },
  {
   "cell_type": "code",
   "execution_count": null,
   "id": "2926720d",
   "metadata": {},
   "outputs": [],
   "source": [
    "#Analisis para Mes 'high_season' (Julio)\n",
    "graficar_distribucion_vuelos_retrasos(7)\n",
    "\n",
    "#Analizando la distrubucion de los vuelos y el % de Retrasos para Julio, se puede observar que:\n",
    "#  - Los días Sabados tienen menor trafico.\n",
    "#  - Los días Viernes tienen Mayor Trafico\n",
    "#  - Independiente del trafico la tasa de retrasos es sobre el 60% en promedio por cada dia del mes.\n",
    "#  - Los retrasos para el mes de Julio son considerablemente mayor a los de Enero aunque ambos son considerados 'high_season'"
   ]
  },
  {
   "cell_type": "code",
   "execution_count": null,
   "id": "3b6f8c2d",
   "metadata": {},
   "outputs": [],
   "source": [
    "#Analisis para Mes 'low_season' (Abril)\n",
    "graficar_distribucion_vuelos_retrasos(4)\n",
    "\n",
    "#Analizando la distrubucion de los vuelos y el % de Retrasos para Julio, se puede observar que:\n",
    "#   - La tasa de retrasos sigue siendo considerable (sobre le 50% en promedio)\n",
    "#   - En relacion a los periodos 'high_season' una disminucion en promedio del 10%"
   ]
  },
  {
   "cell_type": "code",
   "execution_count": null,
   "id": "cf271823",
   "metadata": {},
   "outputs": [],
   "source": [
    "#Analisis para Mes 'low_season' (Junio)\n",
    "graficar_distribucion_vuelos_retrasos(6)"
   ]
  },
  {
   "cell_type": "code",
   "execution_count": null,
   "id": "3fee71d1",
   "metadata": {},
   "outputs": [],
   "source": [
    "#Analisis por dia de la semana."
   ]
  },
  {
   "cell_type": "code",
   "execution_count": null,
   "id": "b901eea8",
   "metadata": {},
   "outputs": [],
   "source": [
    "# Analisis de Retrasos por cada dia de la Semana.\n",
    "\n",
    "def graficar_distribucion_vuelos_semana():\n",
    "    \n",
    "    df = pd.read_csv(r'datasets/Data_SCL/synthetic_features.csv', parse_dates=['Fecha-I', 'Fecha-O'], dtype={'Vlo-I': str, 'Vlo-O': str})\n",
    "\n",
    "    \n",
    "    # Calcular la cantidad total de vuelos por día de la semana\n",
    "    vuelos_por_dia_semana = df.groupby('DIANOM').size()\n",
    "\n",
    "    # Calcular la cantidad de vuelos retrasados por día de la semana\n",
    "    vuelos_retrasados_por_dia_semana = df[df['Retrasado'] == 1].groupby('DIANOM').size()\n",
    "\n",
    "    # Calcular el porcentaje de vuelos retrasados por día de la semana\n",
    "    porcentaje_retrasos = (vuelos_retrasados_por_dia_semana / vuelos_por_dia_semana) * 100\n",
    "\n",
    "    # Graficar el porcentaje de retrasos por día de la semana\n",
    "    fig, ax = plt.subplots(figsize=(10, 5))\n",
    "    bar_width = 0.4\n",
    "\n",
    "    bar1 = ax.bar(vuelos_por_dia_semana.index, vuelos_por_dia_semana, width=bar_width, label='Total de vuelos')\n",
    "    bar2 = ax.bar(vuelos_retrasados_por_dia_semana.index, vuelos_retrasados_por_dia_semana, width=bar_width, label='Vuelos retrasados')\n",
    "\n",
    "    ax.set_xlabel('Día de la semana')\n",
    "    ax.set_ylabel('Cantidad de vuelos')\n",
    "    ax.set_title('Distribución de vuelos y retrasos por día de la semana')\n",
    "\n",
    "    for i, (bar, perc) in enumerate(zip(bar2, porcentaje_retrasos)):\n",
    "        ax.text(bar.get_x() + bar.get_width() / 2, bar.get_height() + 5, f'{perc:.1f}%', ha='center', va='bottom')\n",
    "\n",
    "    plt.legend()\n",
    "    plt.show()\n",
    "\n",
    "    plt.show()"
   ]
  },
  {
   "cell_type": "code",
   "execution_count": null,
   "id": "55689a73",
   "metadata": {},
   "outputs": [],
   "source": [
    "graficar_distribucion_vuelos_semana()\n",
    "#Se observa que el mayor porcentaje de retrasos ocurren los días viernes (sobre el 70%), pero no esta muy por sobre el resto de días.\n",
    "#Independiente del día de la semana, sobre el 60% de los vuelos presentan retraso.\n",
    "#En conclusion no se observa una correlacion entre los retrasos y el día de la semana, ya que no se observa una variacion de Retrasos\n",
    "# significativa entre los dias de la semana."
   ]
  },
  {
   "cell_type": "code",
   "execution_count": null,
   "id": "02ef0696",
   "metadata": {},
   "outputs": [],
   "source": [
    "#Analisis por Aerolinea"
   ]
  },
  {
   "cell_type": "code",
   "execution_count": null,
   "id": "a2ae1c56",
   "metadata": {},
   "outputs": [],
   "source": [
    "# Analisis de Retrasos por Aerolinea, para ver si se visualiza una correlacion entre los retrasos y la aerolinea.\n",
    "\n",
    "def plot_flight_delays_by_operator():\n",
    "    \n",
    "    df = pd.read_csv(r'datasets/Data_SCL/synthetic_features.csv', parse_dates=['Fecha-I', 'Fecha-O'], dtype={'Vlo-I': str, 'Vlo-O': str})\n",
    "    \n",
    "    #Calculamos el total de vuelos por Operador\n",
    "    total_vuelos_por_opera = df.groupby(\"OPERA\").size()\n",
    "    retraso_vuelos_por_opera = df[df[\"Retrasado\"] == 1].groupby(\"OPERA\").size()\n",
    "    porcentaje_retraso_por_opera = (retraso_vuelos_por_opera / total_vuelos_por_opera) * 100\n",
    "\n",
    "    fig, ax1 = plt.subplots(figsize=(15, 6))\n",
    "\n",
    "    index = np.arange(len(total_vuelos_por_opera))\n",
    "    bar_width = 0.8\n",
    "\n",
    "    bar1 = ax1.bar(total_vuelos_por_opera.index, total_vuelos_por_opera, width=bar_width, label=\"Total de vuelos\")\n",
    "    bar2 = ax1.bar(retraso_vuelos_por_opera.index, retraso_vuelos_por_opera, width=bar_width, label=\"Vuelos retrasados\")\n",
    "\n",
    "    ax1.set_xlabel(\"Operador\")\n",
    "    ax1.set_ylabel(\"Cantidad de vuelos\")\n",
    "    ax1.set_title(\"Total de vuelos y vuelos retrasados por operador\")\n",
    "    ax1.set_xticks(index + bar_width / 2)\n",
    "    ax1.set_xticklabels(total_vuelos_por_opera.index, rotation=90 )\n",
    "    ax1.legend()\n",
    "    ax1.set_yscale('log')  # Establecer la escala logarítmica en el eje y\n",
    "\n",
    "    for i, (bar, perc) in enumerate(zip(bar2, porcentaje_retraso_por_opera)):\n",
    "        ax1.text(bar.get_x() + bar.get_width() / 2, bar.get_height() + 5, f'{perc:.1f}%', ha='center', va='bottom', rotation=90)\n",
    "\n",
    "    fig.legend(loc=\"upper left\", bbox_to_anchor=(0.5, 1.00))\n",
    "\n",
    "    plt.show()\n"
   ]
  },
  {
   "cell_type": "code",
   "execution_count": null,
   "id": "1ba6eee2",
   "metadata": {},
   "outputs": [],
   "source": [
    "plot_flight_delays_by_operator()\n",
    "\n",
    "#El siguiente grafico de barras nos muestra una distribucion muy desigual entre algunas Lineas Aereas en relacion al Retraso\n",
    "#Se puede considerar que la variable OPERA (Aerolinea) tenga mas influencia en la prediccion de Retrasos."
   ]
  },
  {
   "cell_type": "code",
   "execution_count": null,
   "id": "1b9a324a",
   "metadata": {},
   "outputs": [],
   "source": [
    "# Analisis de Retrasos de los vuelos Nacionales por Aerolinea\n",
    "\n",
    "def plot_flight_delays_by_type(flight_type):\n",
    "    df = pd.read_csv(r'datasets/Data_SCL/synthetic_features.csv', parse_dates=['Fecha-I', 'Fecha-O'], dtype={'Vlo-I': str, 'Vlo-O': str})\n",
    "\n",
    "    # Filtrar los vuelos por el tipo de vuelo\n",
    "    df_filtered = df[df['TIPOVUELO'] == flight_type]\n",
    "\n",
    "    # Obtener el total de vuelos por aerolínea\n",
    "    total_vuelos_por_aerolinea = df_filtered.groupby(\"OPERA\")[\"Vlo-O\"].count()\n",
    "\n",
    "    # Obtener el número de vuelos retrasados por aerolínea\n",
    "    vuelos_retrasados_por_aerolinea = df_filtered[df_filtered[\"Retrasado\"] > 0].groupby(\"OPERA\")[\"Vlo-O\"].count()\n",
    "\n",
    "    # Calcular el porcentaje de vuelos retrasados por aerolínea\n",
    "    porcentaje_vuelos_retrasados_por_aerolinea = (vuelos_retrasados_por_aerolinea / total_vuelos_por_aerolinea) * 100\n",
    "    Promedio = porcentaje_vuelos_retrasados_por_aerolinea.mean()\n",
    "\n",
    "    # Crear el gráfico de barras\n",
    "    fig, ax1 = plt.subplots(figsize=(10, 5))\n",
    "    index = np.arange(len(total_vuelos_por_aerolinea))\n",
    "    bar_width = 0.4\n",
    "\n",
    "    bar1 = ax1.bar(index, total_vuelos_por_aerolinea, bar_width, label=\"Total de vuelos\", alpha=0.6)\n",
    "    bar2 =ax1.bar(index, vuelos_retrasados_por_aerolinea, bar_width, label=\"Vuelos retrasados\", alpha=0.6)\n",
    "    \n",
    "    ax1.set_xlabel(\"Aerolínea\")\n",
    "    ax1.set_ylabel(\"Cantidad de vuelos\")\n",
    "    ax1.set_title(f\"Total de vuelos y vuelos retrasados por aerolínea ({flight_type})\")\n",
    "    ax1.set_xticks(index)\n",
    "    ax1.set_xticklabels(total_vuelos_por_aerolinea.index, rotation=90)\n",
    "    ax1.legend()\n",
    "    ax1.set_yscale('log')  # Establecer la escala logarítmica en el eje y\n",
    "\n",
    "    for i, (bar, perc) in enumerate(zip(bar2, porcentaje_vuelos_retrasados_por_aerolinea)):\n",
    "        ax1.text(bar.get_x() + bar.get_width() / 2, bar.get_height() + 5, f'{perc:.1f}%', ha='center', va='bottom', rotation=90)\n",
    "\n",
    "\n",
    "    fig.legend(loc=\"upper left\", bbox_to_anchor=(0.0, 1.00))\n",
    "\n",
    "    # Mostrar el gráfico\n",
    "    plt.show()"
   ]
  },
  {
   "cell_type": "code",
   "execution_count": null,
   "id": "873ea873",
   "metadata": {},
   "outputs": [],
   "source": [
    "flight_type = \"N\"  # Reemplazar \"N\" por \"I\" para vuelos internacionales\n",
    "plot_flight_delays_by_type(flight_type)\n",
    "\n",
    "#Para los vuelos solo Nacionales se observa claramente que los Operadores tienen una alta tasa de Retrasos(todos)."
   ]
  },
  {
   "cell_type": "code",
   "execution_count": null,
   "id": "f4476b96",
   "metadata": {},
   "outputs": [],
   "source": [
    "flight_type = \"I\"  # Reemplazar \"N\" por \"I\" para vuelos internacionales\n",
    "plot_flight_delays_by_type(flight_type)\n",
    "\n",
    "#Para los vuelos Internacionales se puede observar una varianza mas marcada entre los OPERA."
   ]
  },
  {
   "cell_type": "code",
   "execution_count": null,
   "id": "cddcec3d",
   "metadata": {},
   "outputs": [],
   "source": [
    "#df = pd.read_csv(r'datasets/Data_SCL/synthetic_features.csv', parse_dates=['Fecha-I', 'Fecha-O'], dtype={'Vlo-I': str, 'Vlo-O': str})\n",
    "varianza_retrasos = df[\"Retrasado\"].var()\n",
    "resumen = df[\"Retrasado\"].describe()\n",
    "print(\"Media de retrasos:\", resumen)\n",
    "print(\"Media de retrasos:\", varianza_retrasos)"
   ]
  },
  {
   "cell_type": "markdown",
   "id": "57d09403",
   "metadata": {},
   "source": [
    "# Respuestas:"
   ]
  },
  {
   "cell_type": "markdown",
   "id": "913a8d77",
   "metadata": {},
   "source": [
    "# ¿Cómo se distribuyen los datos?\n",
    "\n",
    "A partir de la información proporcionada, podemos analizar la distribución de los datos de retrasos en vuelos:\n",
    "\n",
    "La media (mean) de retrasos es aproximadamente 0.667. Dado que los valores de retrasos son 0 (no retrasado) y 1 (retrasado), esto indica que alrededor del 66.7% de los vuelos están retrasados.\n",
    "\n",
    "La desviación estándar (std) es aproximadamente 0.471. Esta medida nos dice cuán dispersos están los datos alrededor de la media. En este caso, como los datos son binarios (0 o 1), la desviación estándar nos da una idea de qué tan comunes son los vuelos retrasados en comparación con los no retrasados.\n",
    "\n",
    "Los percentiles 25%, 50% y 75% nos proporcionan información adicional sobre cómo se distribuyen los datos. En este caso, vemos que el percentil 25% (primer cuartil) es 0, lo que indica que el 25% de los vuelos no tiene retrasos. El percentil 50% (mediana) es 1, lo que sugiere que la mitad de los vuelos tiene retrasos. El percentil 75% (tercer cuartil) también es 1, lo que indica que el 75% de los vuelos tiene retrasos.\n",
    "\n",
    "En resumen, podemos concluir que la mayoría de los vuelos en este conjunto de datos están retrasados (66.7%). Los datos están bastante dispersos, como lo indica la desviación estándar de 0.471. Los percentiles nos muestran que el 25% de los vuelos no tiene retrasos, mientras que el 50% y el 75% sí los tienen."
   ]
  },
  {
   "cell_type": "markdown",
   "id": "11dad8d0",
   "metadata": {},
   "source": [
    "# ¿Encontró algún insight notable para compartir?\n",
    "\n",
    "Basándonos en el análisis de los datos proporcionados y las conversaciones anteriores, aquí hay algunos insights notables para compartir:\n",
    "\n",
    "El 66.7% de los vuelos en el conjunto de datos está retrasado, lo cual es una proporción considerable de vuelos con retrasos.\n",
    "\n",
    "El análisis de la tasa de retraso según el destino mostró que algunos destinos tienen tasas de retraso más altas que otros. Esto podría sugerir que algunos destinos enfrentan desafíos específicos que contribuyen a los retrasos en los vuelos.\n",
    "\n",
    "Al analizar el comportamiento de la tasa de retraso según el operador, observamos que hay diferencias significativas en las tasas de retraso entre los diferentes operadores. Esto podría indicar que algunos operadores tienen mejores prácticas de gestión de tiempo que otros o enfrentan diferentes desafíos operativos.\n",
    "\n",
    "Al analizar el porcentaje de retrasos por día de la semana, encontramos que algunos días tienen tasas de retraso más altas que otros. Esto podría sugerir que hay factores temporales que influyen en la probabilidad de retrasos en los vuelos, como una mayor demanda de vuelos en ciertos días.\n",
    "\n",
    "En general, estos insights podrían ser útiles para las aerolíneas y los viajeros al tomar decisiones y planificar sus vuelos. Para las aerolíneas, estos hallazgos podrían ayudar a identificar áreas problemáticas y oportunidades de mejora en la gestión de vuelos y tiempos. Para los viajeros, estos insights podrían ser útiles al seleccionar aerolíneas y planificar sus itinerarios de viaje."
   ]
  },
  {
   "cell_type": "markdown",
   "id": "9af4c43c",
   "metadata": {},
   "source": [
    "# ¿Qué puede concluir al respecto?\n",
    "\n",
    "A partir del análisis de datos y los insights compartidos, podemos concluir lo siguiente:\n",
    "\n",
    "Los retrasos en los vuelos son un problema común en la industria de la aviación, con un porcentaje significativo de vuelos experimentando retrasos.\n",
    "\n",
    "La tasa de retrasos en los vuelos varía según diferentes factores, como el destino, el operador y el día de la semana. Estos factores pueden influir en la probabilidad de retrasos y afectar la experiencia de los viajeros.\n",
    "\n",
    "Algunos destinos y operadores tienen tasas de retraso más altas que otros. Esto puede ser indicativo de desafíos específicos en la gestión del tiempo, infraestructura o logística en ciertos destinos y entre diferentes operadores de aerolíneas.\n",
    "\n",
    "La planificación y la gestión eficiente del tiempo son cruciales para reducir la cantidad de vuelos retrasados y mejorar la experiencia del cliente.\n",
    "\n",
    "En resumen, la distribución de los datos de retraso en los vuelos nos permite identificar patrones y áreas problemáticas en la industria de la aviación. Las aerolíneas pueden utilizar esta información para abordar desafíos específicos y mejorar sus operaciones, mientras que los viajeros pueden tomar decisiones más informadas al planificar sus vuelos. Además, los datos también sugieren que ciertos días de la semana pueden ser mejores para viajar si se quiere evitar retrasos.\n"
   ]
  },
  {
   "cell_type": "markdown",
   "id": "414f3923",
   "metadata": {},
   "source": [
    "# 2.\tGenere las siguientes columnas adicionales. Por favor, expórtelas a un archivo CSV llamado synthetic_features.csv:"
   ]
  },
  {
   "cell_type": "markdown",
   "id": "4e1ad2ac",
   "metadata": {},
   "source": [
    "- high_season: 1 si Fecha-I está entre el 15 de diciembre y el 3 de marzo, o del 15 al 31 de julio, o del 11 al 30 de septiembre, 0 en caso contrario.\n",
    "- min_diff: diferencia en minutos entre Fecha-O y Fecha-I.\n",
    "- delay_15: 1 si min_diff > 15, 0 si no.\n",
    "- period_day: mañana (entre las 5:00 y las 11:59), tarde (entre las 12:00 y las 18:59) y noche (entre las 19:00 y las 4:59), según Fecha-I."
   ]
  },
  {
   "cell_type": "code",
   "execution_count": null,
   "id": "6480fb44",
   "metadata": {},
   "outputs": [],
   "source": [
    "# Generar Columna 'high_season'.\n",
    "df = pd.read_csv(r'datasets/Data_SCL/dataset_SCL.csv', parse_dates=['Fecha-I', 'Fecha-O'], dtype={'Vlo-I': str, 'Vlo-O': str})\n",
    "\n",
    "# Función para determinar si una fecha está en temporada alta\n",
    "def is_high_season(date):\n",
    "    if (date.month == 12 and date.day >= 15) or (date.month == 1) or (date.month == 2) or (date.month == 3 and date.day <= 3) or \\\n",
    "       (date.month == 7 and date.day >= 15 and date.day <= 31) or \\\n",
    "       (date.month == 9 and date.day >= 11 and date.day <= 30):\n",
    "        return 1\n",
    "    else:\n",
    "        return 0\n",
    "\n",
    "# Aplicar la función a la columna \"Fecha-I\" y crear la nueva columna \"high_season\"\n",
    "df[\"high_season\"] = df[\"Fecha-I\"].apply(is_high_season)\n"
   ]
  },
  {
   "cell_type": "code",
   "execution_count": null,
   "id": "6c0f10eb",
   "metadata": {},
   "outputs": [],
   "source": [
    "# Generar Columna 'min_diff'.\n",
    "# Función para calcular la diferencia en minutos entre Fecha-O y Fecha-I\n",
    "def calculate_min_diff(row):\n",
    "    diff = row[\"Fecha-O\"] - row[\"Fecha-I\"]\n",
    "    return int((diff.total_seconds())/60)\n",
    "\n",
    "# Aplicar la función a las filas del DataFrame y crear la nueva columna \"min_diff\"\n",
    "df[\"min_diff\"] = df.apply(calculate_min_diff, axis=1)\n",
    "\n",
    "# Guardar la columna \"min_diff\" en un nuevo archivo CSV\n",
    "df.to_csv(\"datasets/Data_SCL/synthetic_features.csv\", index=False)\n"
   ]
  },
  {
   "cell_type": "code",
   "execution_count": null,
   "id": "b58c2ab8",
   "metadata": {},
   "outputs": [],
   "source": [
    "# Generar Columna 'delay_15'\n",
    "\n",
    "# Función para determinar si la diferencia en minutos es mayor a 15\n",
    "def is_delayed_15(min_diff):\n",
    "    return 1 if min_diff > 15 else 0\n",
    "\n",
    "# Aplicar la función a la columna \"min_diff\" y crear la nueva columna \"delay_15\"\n",
    "df[\"delay_15\"] = df[\"min_diff\"].apply(is_delayed_15)\n",
    "\n",
    "# Guardar las columnas \"Fecha-I\", \"Fecha-O\", \"min_diff\" y \"delay_15\" en un nuevo archivo CSV\n",
    "df.to_csv(\"datasets/Data_SCL/synthetic_features.csv\", index=False)"
   ]
  },
  {
   "cell_type": "code",
   "execution_count": null,
   "id": "b737a0c0",
   "metadata": {},
   "outputs": [],
   "source": [
    "# Generar Columna 'period_day'.\n",
    "\n",
    "# Función para asignar el período del día basado en la hora\n",
    "def period_day(hour):\n",
    "    if 5 <= hour < 12:\n",
    "        return \"mañana\"\n",
    "    elif 12 <= hour < 19:\n",
    "        return \"tarde\"\n",
    "    else:\n",
    "        return \"noche\"\n",
    "\n",
    "# Convertir la columna 'Fecha-I' a un objeto datetime\n",
    "df['Fecha-I'] = pd.to_datetime(df['Fecha-I'])\n",
    "\n",
    "# Crear la columna 'period_day' aplicando la función period_day() a la hora de la columna 'Fecha-I'\n",
    "df['period_day'] = df['Fecha-I'].dt.hour.apply(period_day)\n",
    "\n",
    "# Guardar el DataFrame actualizado en un archivo CSV\n",
    "df.to_csv(\"datasets/Data_SCL/synthetic_features.csv\", index=False)"
   ]
  },
  {
   "cell_type": "code",
   "execution_count": null,
   "id": "8e40a626",
   "metadata": {},
   "outputs": [],
   "source": [
    "#Adicional a lo solicitado se generara la columna 'Retrasado', con valores 1=Retrasado y 0 = No Retrasado.\n",
    "# Convertir las columnas 'Fecha-I' y 'Fecha-O' a objetos datetime\n",
    "df['Fecha-I'] = pd.to_datetime(df['Fecha-I'])\n",
    "df['Fecha-O'] = pd.to_datetime(df['Fecha-O'])\n",
    "\n",
    "# Crear la columna 'Retrasado' basada en las condiciones dadas\n",
    "df['Retrasado'] = (df['Fecha-O'] > df['Fecha-I']).astype(int)\n",
    "\n",
    "# Guardar el DataFrame actualizado en un archivo CSV\n",
    "df.to_csv(\"datasets/Data_SCL/synthetic_features.csv\", index=False)\n"
   ]
  },
  {
   "cell_type": "markdown",
   "id": "071ca898",
   "metadata": {},
   "source": [
    "# 3.\t¿Cuál es el comportamiento de la tasa de retraso según el destino, la aerolínea, el mes del año, el día de la semana, la temporada, el tipo de vuelo? ¿Qué variables esperaría que tuvieran más influencia en la predicción de retrasos?"
   ]
  },
  {
   "cell_type": "markdown",
   "id": "c1414646",
   "metadata": {},
   "source": [
    "1.- Destino: La tasa de retraso puede variar según el destino debido a factores como el clima, la infraestructura del aeropuerto, la congestión del tráfico aéreo y las regulaciones locales.\n",
    "\n",
    "2.- Aerolínea: Diferentes aerolíneas pueden tener diferentes tasas de retraso debido a su eficiencia operativa, tamaño de la flota, procedimientos internos y enfoques de gestión.\n",
    "\n",
    "3.- Mes del año: La tasa de retraso puede variar a lo largo del año debido a factores estacionales, como el clima extremo (tormentas, nevadas) y las fluctuaciones en la demanda de vuelos (temporada alta vs. temporada baja).\n",
    "\n",
    "4.- Día de la semana: La tasa de retraso puede ser diferente durante la semana debido a las fluctuaciones en la demanda de vuelos y el tráfico aéreo. Por ejemplo, los fines de semana pueden ser más congestionados, menor cantidad de personal, entre otros, lo que puede aumentar la probabilidad de retrasos.\n",
    "\n",
    "5.- Temporada: La tasa de retraso también puede variar según la temporada, con temporadas de vacaciones y eventos especiales generando una mayor demanda de vuelos y posiblemente aumentando la tasa de retrasos.\n",
    "\n",
    "6.- Tipo de vuelo: Los vuelos nacionales e internacionales pueden tener diferentes tasas de retraso debido a la complejidad de las rutas, las diferencias en las regulaciones y los requisitos de inmigración y aduanas.\n",
    "\n",
    "En cuanto a las variables que podrían tener más influencia en la predicción de retrasos, podríamos esperar que el destino, la aerolínea y el mes del año tengan una mayor influencia debido a su relación con factores externos, como el clima y la infraestructura del aeropuerto, así como factores internos, como la eficiencia operativa de las aerolíneas. Sin embargo, es importante tener en cuenta que la importancia de cada variable puede variar según el contexto específico y los datos disponibles, por lo que es crucial realizar análisis adicionales y utilizar técnicas de aprendizaje automático para identificar las variables más relevantes en la predicción de retrasos."
   ]
  },
  {
   "cell_type": "code",
   "execution_count": null,
   "id": "1677ddff",
   "metadata": {},
   "outputs": [],
   "source": [
    "def plot_delay_rate_by_param(param):\n",
    "    \n",
    "    df = pd.read_csv(r'datasets/Data_SCL/synthetic_features.csv', parse_dates=['Fecha-I', 'Fecha-O'], dtype={'Vlo-I': str, 'Vlo-O': str})\n",
    "\n",
    "    total_flights_by_destination = df.groupby(param).size()\n",
    "    delayed_flights_by_destination = df[df[\"Retrasado\"] == 1].groupby(param).size()\n",
    "\n",
    "    delay_rate_by_destination = (delayed_flights_by_destination / total_flights_by_destination) * 100\n",
    "\n",
    "    delay_rate_by_destination_sorted = delay_rate_by_destination.sort_values(ascending=False)\n",
    "\n",
    "    fig, ax = plt.subplots(figsize=(15, 6))\n",
    "    delay_rate_by_destination_sorted.plot(kind='bar', ax=ax)\n",
    "\n",
    "    ax.set_xlabel(param)\n",
    "    ax.set_ylabel(\"Tasa de retraso (%)\")\n",
    "    ax.set_title(\"Tasa de retraso\")\n",
    "\n",
    "    plt.show()\n",
    "\n",
    "#SIGLADES"
   ]
  },
  {
   "cell_type": "code",
   "execution_count": null,
   "id": "91e56b20",
   "metadata": {},
   "outputs": [],
   "source": [
    "plot_delay_rate_by_param(\"SIGLADES\")"
   ]
  },
  {
   "cell_type": "code",
   "execution_count": null,
   "id": "e5ef539f",
   "metadata": {},
   "outputs": [],
   "source": [
    "plot_delay_rate_by_param(\"OPERA\")"
   ]
  },
  {
   "cell_type": "code",
   "execution_count": null,
   "id": "2ea88d05",
   "metadata": {},
   "outputs": [],
   "source": [
    "plot_delay_rate_by_param(\"MES\")"
   ]
  },
  {
   "cell_type": "code",
   "execution_count": null,
   "id": "89332bd0",
   "metadata": {},
   "outputs": [],
   "source": [
    "plot_delay_rate_by_param(\"DIANOM\")"
   ]
  },
  {
   "cell_type": "code",
   "execution_count": null,
   "id": "2180cd96",
   "metadata": {},
   "outputs": [],
   "source": [
    "plot_delay_rate_by_param(\"high_season\")"
   ]
  },
  {
   "cell_type": "code",
   "execution_count": null,
   "id": "b27c5601",
   "metadata": {},
   "outputs": [],
   "source": [
    "plot_delay_rate_by_param(\"TIPOVUELO\")"
   ]
  },
  {
   "cell_type": "markdown",
   "id": "7a230108",
   "metadata": {},
   "source": [
    "# 4.\tEntrene uno o varios modelos (usando el algoritmo(s) de su elección) para estimar la probabilidad de un retraso de vuelo. Siéntase libre de generar variables adicionales y/o complementar con variables externas."
   ]
  },
  {
   "cell_type": "markdown",
   "id": "1e12c04f",
   "metadata": {},
   "source": [
    "# Modelo de Regresión Logística"
   ]
  },
  {
   "cell_type": "code",
   "execution_count": null,
   "id": "d5dbd53d",
   "metadata": {},
   "outputs": [],
   "source": [
    "import pandas as pd\n",
    "import numpy as np\n",
    "from sklearn.model_selection import train_test_split\n",
    "from sklearn.preprocessing import OneHotEncoder, StandardScaler\n",
    "from sklearn.linear_model import LogisticRegression\n",
    "from sklearn.pipeline import Pipeline\n",
    "from sklearn.compose import ColumnTransformer\n",
    "from sklearn.metrics import classification_report, accuracy_score\n",
    "\n",
    "# Leer el archivo CSV\n",
    "df = pd.read_csv(r'datasets/Data_SCL/synthetic_features.csv', parse_dates=['Fecha-I', 'Fecha-O'], dtype={'Vlo-I': str, 'Vlo-O': str})\n",
    "\n",
    "# Seleccionar las columnas relevantes\n",
    "data = df[[\"SIGLADES\", \"OPERA\", \"DIANOM\",\"high_season\",\"Retrasado\"]]\n",
    "\n",
    "# Dividir el conjunto de datos en entrenamiento y prueba\n",
    "X = data.drop(\"Retrasado\", axis=1)\n",
    "y = data[\"Retrasado\"]\n",
    "\n",
    "X_train, X_test, y_train, y_test = train_test_split(X, y, test_size=0.2, random_state=42)\n",
    "\n",
    "# Preparar el preprocesador\n",
    "preprocessor = ColumnTransformer(transformers=[\n",
    "    ('cat', OneHotEncoder(), [\"SIGLADES\", \"OPERA\", \"DIANOM\",\"high_season\"]),\n",
    "])\n",
    "\n",
    "# Crear el pipeline\n",
    "pipeline = Pipeline(steps=[\n",
    "    ('preprocessor', preprocessor),\n",
    "    ('scaler', StandardScaler(with_mean=False)),\n",
    "    ('classifier', LogisticRegression())\n",
    "])\n",
    "\n",
    "# Entrenar el modelo\n",
    "pipeline.fit(X_train, y_train)\n",
    "\n",
    "# Predecir en el conjunto de prueba\n",
    "y_pred = pipeline.predict(X_test)\n",
    "\n",
    "# Evaluar el rendimiento del modelo\n",
    "print(\"Accuracy:\", accuracy_score(y_test, y_pred))\n",
    "print(\"\\nClassification Report:\\n\", classification_report(y_test, y_pred))"
   ]
  },
  {
   "cell_type": "markdown",
   "id": "516f238b",
   "metadata": {},
   "source": [
    "El modelo de Regresión Logística que se ha entrenado, tiene un rendimiento moderado en la predicción de retrasos en vuelos. La precisión general del modelo es de aproximadamente 0.687, lo que significa que aproximadamente el 68.7% de las veces, el modelo hace una predicción correcta.\n",
    "\n",
    "La métrica de precisión mide la proporción de predicciones correctas de una clase en comparación con todas las predicciones hechas para esa clase. La métrica de recall mide la proporción de predicciones correctas de una clase en comparación con todos los ejemplos verdaderos de esa clase. La métrica F1-score es una medida que combina precisión y recall, y es una medida útil cuando las clases están desequilibradas.\n",
    "\n",
    "Si analizamos el informe de clasificación, podemos ver las métricas por clase (0 y 1):\n",
    "\n",
    "Clase 0 (No retrasado): La precisión es de 0.62, lo que significa que de todas las veces que el modelo predijo que un vuelo no estaba retrasado, el 62% de las veces fue correcto. El recall es de 0.18, lo que significa que el modelo solo pudo identificar correctamente el 18% de todos los vuelos que no estaban retrasados. El F1-score es de 0.28, lo cual indica un rendimiento bastante bajo para esta clase.\n",
    "\n",
    "Clase 1 (Retrasado): La precisión es de 0.69, lo que significa que de todas las veces que el modelo predijo que un vuelo estaba retrasado, el 69% de las veces fue correcto. El recall es de 0.95, lo que significa que el modelo pudo identificar correctamente el 95% de todos los vuelos que estaban retrasados. El F1-score es de 0.80, lo cual indica un rendimiento bastante bueno para esta clase.\n",
    "\n",
    "El rendimiento del modelo es bastante bueno en la predicción de vuelos retrasados, pero no tanto en la predicción de vuelos no retrasados. Esto podría deberse a un desequilibrio en la cantidad de ejemplos en cada clase o porque las características utilizadas no proporcionan suficiente información para predecir correctamente los vuelos no retrasados. Para mejorar el rendimiento del modelo, puedes probar diferentes algoritmos de aprendizaje automático, ajustar los parámetros del modelo o agregar más características que puedan ser relevantes para predecir retrasos en vuelos. También podrías aplicar técnicas de balanceo de clases para mejorar el rendimiento en la clase menos representada."
   ]
  },
  {
   "cell_type": "markdown",
   "id": "ac40af15",
   "metadata": {},
   "source": [
    "# Modelo de bosque aleatorio y XGBoost"
   ]
  },
  {
   "cell_type": "code",
   "execution_count": null,
   "id": "8c4973ec",
   "metadata": {},
   "outputs": [
    {
     "name": "stderr",
     "output_type": "stream",
     "text": [
      "C:\\Users\\user\\AppData\\Local\\Temp\\ipykernel_26440\\2697575488.py:16: DtypeWarning: Columns (1,6) have mixed types. Specify dtype option on import or set low_memory=False.\n",
      "  df = pd.read_csv(r'datasets/Data_SCL/synthetic_features.csv')\n",
      "C:\\Users\\user\\anaconda3\\envs\\CursoMachineLearning\\lib\\site-packages\\sklearn\\preprocessing\\_encoders.py:868: FutureWarning: `sparse` was renamed to `sparse_output` in version 1.2 and will be removed in 1.4. `sparse_output` is ignored unless you leave `sparse` to its default value.\n",
      "  warnings.warn(\n"
     ]
    },
    {
     "name": "stdout",
     "output_type": "stream",
     "text": [
      "Accuracy: 1.00\n",
      "Fitting 10 folds for each of 108 candidates, totalling 1080 fits\n"
     ]
    }
   ],
   "source": [
    "# Paso 1: Importar librerías necesarias\n",
    "import pandas as pd\n",
    "import numpy as np\n",
    "from sklearn.model_selection import train_test_split, GridSearchCV, cross_val_score\n",
    "from sklearn.ensemble import RandomForestClassifier\n",
    "from sklearn.metrics import classification_report, accuracy_score\n",
    "from xgboost import XGBClassifier\n",
    "from sklearn.preprocessing import OneHotEncoder\n",
    "from sklearn.compose import ColumnTransformer\n",
    "from sklearn.impute import SimpleImputer\n",
    "from sklearn.pipeline import Pipeline\n",
    "from sklearn.preprocessing import StandardScaler\n",
    "from sklearn.impute import SimpleImputer\n",
    "\n",
    "# Paso 2: Preprocesamiento, transformación y organización de datos\n",
    "df = pd.read_csv(r'datasets/Data_SCL/synthetic_features.csv')\n",
    "\n",
    "day_mapping = {'Lunes': 0, 'Martes': 1, 'Miércoles': 2, 'Jueves': 3, 'Viernes': 4, 'Sábado': 5, 'Domingo': 6}\n",
    "df['DIANOM'] = df['DIANOM'].map(day_mapping)\n",
    "\n",
    "df['TIPOVUELO'] = df['TIPOVUELO'].map({'N': 0, 'I': 1})\n",
    "\n",
    "df['Fecha-I'] = pd.to_datetime(df['Fecha-I'])\n",
    "df['Fecha-O'] = pd.to_datetime(df['Fecha-O'])\n",
    "\n",
    "reference_date = pd.Timestamp('1970-01-01')\n",
    "df['Fecha-I'] = (df['Fecha-I'] - reference_date).dt.total_seconds()\n",
    "df['Fecha-O'] = (df['Fecha-O'] - reference_date).dt.total_seconds()\n",
    "\n",
    "cat_columns = [\n",
    "    'Vlo-I', 'Ori-I', 'Des-I', 'Emp-I',\n",
    "    'Vlo-O', 'Ori-O', 'Des-O', 'Emp-O',\n",
    "    'OPERA', 'SIGLAORI', 'SIGLADES', 'period_day'\n",
    "]\n",
    "for col in cat_columns:\n",
    "    df[col] = df[col].astype(str)\n",
    "\n",
    "encoder = OneHotEncoder(sparse=False)\n",
    "encoded_vars = encoder.fit_transform(df[cat_columns])\n",
    "encoded_vars_df = pd.DataFrame(encoded_vars, columns=encoder.get_feature_names_out(cat_columns))\n",
    "\n",
    "df_encoded = df.drop(cat_columns, axis=1)\n",
    "df_encoded = pd.concat([df_encoded, encoded_vars_df], axis=1)\n",
    "\n",
    "# Paso 3: Dividir los datos en conjuntos de entrenamiento y prueba\n",
    "X = df_encoded.drop('Retrasado', axis=1)\n",
    "y = df_encoded['Retrasado']\n",
    "\n",
    "invalid_rows = df.apply(lambda x: pd.to_numeric(x, errors='coerce').notnull().all(), axis=1)\n",
    "df_cleaned = df[invalid_rows]\n",
    "\n",
    "X_train, X_test, y_train, y_test = train_test_split(X, y, test_size=0.3, random_state=42)\n",
    "\n",
    "imputer = SimpleImputer(strategy='mean')\n",
    "X_train = imputer.fit_transform(X_train)\n",
    "X_test = imputer.transform(X_test)\n",
    "\n",
    "# Paso 4: Entrenar el modelo\n",
    "#imputer = SimpleImputer(strategy='median')\n",
    "rf_classifier = RandomForestClassifier(random_state=42)\n",
    "pipeline = Pipeline(steps=[('imputer', imputer), ('scaler', StandardScaler()), ('classifier', rf_classifier)])\n",
    "pipeline.fit(X_train, y_train)\n",
    "\n",
    "accuracy = pipeline.score(X_test, y_test)\n",
    "print(f\"Accuracy: {accuracy:.2f}\")\n",
    " \n",
    "# Paso 5: Ajuste de hiperparámetros de los modelos\n",
    "rf = RandomForestClassifier(random_state=42)\n",
    "rf_params = {\n",
    "    'n_estimators': [100, 200, 300],\n",
    "    'max_depth': [None, 10, 20, 30],\n",
    "    'min_samples_split': [2, 5, 10],\n",
    "    'min_samples_leaf': [1, 2, 4]\n",
    "}\n",
    "rf_grid = GridSearchCV(rf, rf_params, cv=10, scoring='accuracy', verbose=1, n_jobs=-1)\n",
    "rf_grid.fit(X_train, y_train)\n",
    "print('Mejores hiperparámetros para RandomForest:', rf_grid.best_params_)\n",
    "\n",
    "xgb = XGBClassifier(random_state=42)\n",
    "xgb_params = {\n",
    "    'n_estimators': [100, 200, 300],\n",
    "    'max_depth': [3, 6, 9],\n",
    "    'learning_rate': [0.01, 0.1, 0.2],\n",
    "    'min_child_weight': [1, 3, 5]\n",
    "}\n",
    "xgb_grid = GridSearchCV(xgb, xgb_params, cv=10, scoring='accuracy', verbose=1, n_jobs=-1)\n",
    "xgb_grid.fit(X_train, y_train)\n",
    "print('Mejores hiperparámetros para XGBoost:', xgb_grid.best_params_)\n",
    "\n",
    "# Paso 6: Evaluar los modelos con los mejores hiperparámetros\n",
    "best_rf = rf_grid.best_estimator_\n",
    "best_xgb = xgb_grid.best_estimator_\n",
    "\n",
    "rf_pred = best_rf.predict(X_test)\n",
    "xgb_pred = best_xgb.predict(X_test)\n",
    "\n",
    "print(\"Accuracy RandomForest:\", accuracy_score(y_test, rf_pred))\n",
    "print(\"Accuracy XGBoost:\", accuracy_score(y_test, xgb_pred))\n",
    "\n",
    "print(\"Classification Report RandomForest:\\n\", classification_report(y_test, rf_pred))\n",
    "print(\"Classification Report XGBoost:\\n\", classification_report(y_test, xgb_pred))"
   ]
  },
  {
   "cell_type": "markdown",
   "id": "009fcd9a",
   "metadata": {},
   "source": []
  },
  {
   "cell_type": "code",
   "execution_count": null,
   "id": "b9d12f53",
   "metadata": {},
   "outputs": [],
   "source": []
  },
  {
   "cell_type": "code",
   "execution_count": null,
   "id": "c34e36b7",
   "metadata": {},
   "outputs": [],
   "source": []
  }
 ],
 "metadata": {
  "celltoolbar": "Raw Cell Format",
  "kernelspec": {
   "display_name": "Python 3 (ipykernel)",
   "language": "python",
   "name": "python3"
  },
  "language_info": {
   "codemirror_mode": {
    "name": "ipython",
    "version": 3
   },
   "file_extension": ".py",
   "mimetype": "text/x-python",
   "name": "python",
   "nbconvert_exporter": "python",
   "pygments_lexer": "ipython3",
   "version": "3.9.16"
  }
 },
 "nbformat": 4,
 "nbformat_minor": 5
}
